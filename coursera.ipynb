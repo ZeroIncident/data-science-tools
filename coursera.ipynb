{
 "cells": [
  {
   "cell_type": "markdown",
   "id": "8635a65d",
   "metadata": {},
   "source": [
    "## This is a title"
   ]
  },
  {
   "cell_type": "markdown",
   "id": "8e5bb2ee",
   "metadata": {},
   "source": [
    "## Introduction \n",
    "Hi im currently studying in a university"
   ]
  },
  {
   "cell_type": "markdown",
   "id": "aeaf3d23",
   "metadata": {},
   "source": [
    "## Data Science Languages\n",
    "Some of the popular languages used by data scientists include:\n",
    "- Python  \n",
    "- R  \n",
    "- SQL  \n",
    "- Julia  \n",
    "- Scala  \n",
    "- Java  \n",
    "- C++  \n",
    "- MATLAB"
   ]
  },
  {
   "cell_type": "markdown",
   "id": "04a1499f",
   "metadata": {},
   "source": [
    "## Data Science Libraries\n",
    "Here are a few commonly used libraries for data science tasks:\n",
    "- **NumPy** – for numerical computations  \n",
    "- **Pandas** – for data manipulation and analysis  \n",
    "- **Matplotlib** – for data visualization  \n",
    "- **Seaborn** – for statistical graphics  \n",
    "- **Scikit-learn** – for machine learning  \n",
    "- **TensorFlow** – for deep learning  \n",
    "- **PyTorch** – for neural networks"
   ]
  },
  {
   "cell_type": "markdown",
   "id": "2ca9b091",
   "metadata": {},
   "source": [
    "## Data Science Tools\n",
    "Category | Tools \n",
    "Data Visualization | Tableau, Power BI, Matplotlib \n",
    "Data Management | MySQL, PostgreSQL, MongoDB \n",
    "Big Data Processing | Apache Hadoop, Spark \n",
    "Machine Learning | Scikit-learn, TensorFlow, PyTorch \n",
    "Development Environment | Jupyter Notebook, RStudio, VS Code "
   ]
  },
  {
   "cell_type": "markdown",
   "id": "cdf205bb",
   "metadata": {},
   "source": [
    "## Arithmetic Expression Examples\n",
    "Below are some examples of simple arithmetic expressions that can be performed using Python."
   ]
  },
  {
   "cell_type": "code",
   "execution_count": 2,
   "id": "fdfb4290",
   "metadata": {},
   "outputs": [
    {
     "data": {
      "text/plain": [
       "3.3333333333333335"
      ]
     },
     "execution_count": 2,
     "metadata": {},
     "output_type": "execute_result"
    }
   ],
   "source": [
    "minutes = 200\n",
    "hours = minutes / 60\n",
    "hours\n"
   ]
  },
  {
   "cell_type": "markdown",
   "id": "b7e6c0d9",
   "metadata": {},
   "source": [
    "## Objectives\n",
    "- List popular languages for Data Science  \n",
    "- Identify common libraries used by Data Scientists  \n",
    "- Create a table of Data Science tools  \n",
    "- Perform basic arithmetic operations using Python  \n",
    "- Convert minutes to hours using Python code"
   ]
  },
  {
   "cell_type": "markdown",
   "id": "6edc2a26",
   "metadata": {},
   "source": [
    "## Author\n",
    "**Name:** [Zero]"
   ]
  }
 ],
 "metadata": {
  "kernelspec": {
   "display_name": "Python 3",
   "language": "python",
   "name": "python3"
  },
  "language_info": {
   "codemirror_mode": {
    "name": "ipython",
    "version": 3
   },
   "file_extension": ".py",
   "mimetype": "text/x-python",
   "name": "python",
   "nbconvert_exporter": "python",
   "pygments_lexer": "ipython3",
   "version": "3.10.10"
  }
 },
 "nbformat": 4,
 "nbformat_minor": 5
}
