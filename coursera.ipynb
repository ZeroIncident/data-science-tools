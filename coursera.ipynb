{
 "cells": [
  {
   "cell_type": "markdown",
   "id": "8635a65d",
   "metadata": {},
   "source": [
    "# Tools for Data Science"
   ]
  },
  {
   "cell_type": "markdown",
   "id": "8e5bb2ee",
   "metadata": {},
   "source": [
    "## Introduction\n",
    "In this notebook, we will explore some of the most commonly used tools, languages, and libraries in the field of Data Science. \n",
    "We will also perform simple arithmetic operations using Python code."
   ]
  },
  {
   "cell_type": "markdown",
   "id": "aeaf3d23",
   "metadata": {},
   "source": [
    "## Data Science Languages\n",
    "Some of the popular languages used by data scientists include:\n",
    "- SQL\n",
    "- Scala\n",
    "- Java\n",
    "- C++\n",
    "- Julia\n",
    "- JavaScript\n",
    "- PHP\n",
    "- Go\n",
    "- Ruby\n",
    "- Visual Basic"
   ]
  },
  {
   "cell_type": "markdown",
   "id": "04a1499f",
   "metadata": {},
   "source": [
    "## Data Science Libraries\n",
    "Here are a few commonly used libraries for data science tasks:\n",
    "Python\n",
    "\n",
    "- Pandas\n",
    "- Numpy\n",
    "- nMatplotlib\n",
    "- Seaborn\n",
    "- Scikit-learn\n",
    "- Keras\n",
    "- TensorFlow\n",
    "- PyTorch\n",
    "- Apache Spark\n",
    "- Vegas\n",
    "- Big DL\n",
    "- Ggplot2"
   ]
  },
  {
   "cell_type": "markdown",
   "id": "2ca9b091",
   "metadata": {},
   "source": [
    "## Data Science Tools\n",
    "- Anaconda\n",
    "- Jupyter Notebooks\n",
    "- R studio \n",
    "- Spyder\n",
    "- Zepplin\n"
   ]
  },
  {
   "cell_type": "markdown",
   "id": "701b5fa1",
   "metadata": {},
   "source": [
    "## Arithmetic Expression Examples\n",
    "Below are some examples of simple arithmetic expressions that can be performed using Python."
   ]
  },
  {
   "cell_type": "code",
   "execution_count": 6,
   "id": "64380b28",
   "metadata": {},
   "outputs": [
    {
     "data": {
      "text/plain": [
       "17"
      ]
     },
     "execution_count": 6,
     "metadata": {},
     "output_type": "execute_result"
    }
   ],
   "source": [
    "# Multiply and add numbers\n",
    "(3 * 4) + 5"
   ]
  },
  {
   "cell_type": "code",
   "execution_count": 4,
   "id": "fdfb4290",
   "metadata": {},
   "outputs": [
    {
     "data": {
      "text/plain": [
       "3.3333333333333335"
      ]
     },
     "execution_count": 4,
     "metadata": {},
     "output_type": "execute_result"
    }
   ],
   "source": [
    "minutes = 200\n",
    "hours = minutes / 60\n",
    "hours\n"
   ]
  },
  {
   "cell_type": "markdown",
   "id": "b7e6c0d9",
   "metadata": {},
   "source": [
    "## Objectives\n",
    "- List popular languages for Data Science  \n",
    "- Identify common libraries used by Data Scientists  \n",
    "- Create a table of Data Science tools  \n",
    "- Perform basic arithmetic operations using Python  \n",
    "- Convert minutes to hours using Python code"
   ]
  },
  {
   "cell_type": "markdown",
   "id": "6edc2a26",
   "metadata": {},
   "source": [
    "## Author\n",
    "**Name:** [Zero]"
   ]
  }
 ],
 "metadata": {
  "kernelspec": {
   "display_name": "Python 3",
   "language": "python",
   "name": "python3"
  },
  "language_info": {
   "codemirror_mode": {
    "name": "ipython",
    "version": 3
   },
   "file_extension": ".py",
   "mimetype": "text/x-python",
   "name": "python",
   "nbconvert_exporter": "python",
   "pygments_lexer": "ipython3",
   "version": "3.10.10"
  }
 },
 "nbformat": 4,
 "nbformat_minor": 5
}
